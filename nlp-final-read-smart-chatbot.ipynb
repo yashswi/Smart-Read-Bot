{
 "cells": [
  {
   "cell_type": "code",
   "execution_count": 1,
   "id": "205d0319",
   "metadata": {
    "_cell_guid": "b1076dfc-b9ad-4769-8c92-a6c4dae69d19",
    "_uuid": "8f2839f25d086af736a60e9eeb907d3b93b6e0e5",
    "execution": {
     "iopub.execute_input": "2024-04-30T09:50:56.990441Z",
     "iopub.status.busy": "2024-04-30T09:50:56.990164Z",
     "iopub.status.idle": "2024-04-30T09:50:57.825069Z",
     "shell.execute_reply": "2024-04-30T09:50:57.824194Z"
    },
    "papermill": {
     "duration": 0.841103,
     "end_time": "2024-04-30T09:50:57.827295",
     "exception": false,
     "start_time": "2024-04-30T09:50:56.986192",
     "status": "completed"
    },
    "tags": []
   },
   "outputs": [
    {
     "name": "stdout",
     "output_type": "stream",
     "text": [
      "/kaggle/input/filereq/main.py\n",
      "/kaggle/input/filereq/requirements.txt\n",
      "/kaggle/input/mainfolder/readsmartbot.py\n"
     ]
    }
   ],
   "source": [
    "# This Python 3 environment comes with many helpful analytics libraries installed\n",
    "# It is defined by the kaggle/python Docker image: https://github.com/kaggle/docker-python\n",
    "# For example, here's several helpful packages to load\n",
    "\n",
    "import numpy as np # linear algebra\n",
    "import pandas as pd # data processing, CSV file I/O (e.g. pd.read_csv)\n",
    "\n",
    "# Input data files are available in the read-only \"../input/\" directory\n",
    "# For example, running this (by clicking run or pressing Shift+Enter) will list all files under the input directory\n",
    "\n",
    "import os\n",
    "for dirname, _, filenames in os.walk('/kaggle/input'):\n",
    "    for filename in filenames:\n",
    "        print(os.path.join(dirname, filename))\n",
    "\n",
    "# You can write up to 20GB to the current directory (/kaggle/working/) that gets preserved as output when you create a version using \"Save & Run All\" \n",
    "# You can also write temporary files to /kaggle/temp/, but they won't be saved outside of the current session"
   ]
  },
  {
   "cell_type": "code",
   "execution_count": 2,
   "id": "9936f359",
   "metadata": {
    "execution": {
     "iopub.execute_input": "2024-04-30T09:50:57.834127Z",
     "iopub.status.busy": "2024-04-30T09:50:57.833755Z",
     "iopub.status.idle": "2024-04-30T09:51:02.646735Z",
     "shell.execute_reply": "2024-04-30T09:51:02.645623Z"
    },
    "papermill": {
     "duration": 4.818748,
     "end_time": "2024-04-30T09:51:02.649019",
     "exception": false,
     "start_time": "2024-04-30T09:50:57.830271",
     "status": "completed"
    },
    "tags": []
   },
   "outputs": [
    {
     "name": "stdout",
     "output_type": "stream",
     "text": [
      "Collecting langchain==0.0.284 (from -r /kaggle/input/filereq/requirements.txt (line 1))\r\n",
      "  Downloading langchain-0.0.284-py3-none-any.whl.metadata (14 kB)\r\n",
      "Requirement already satisfied: python-dotenv==1.0.0 in /opt/conda/lib/python3.10/site-packages (from -r /kaggle/input/filereq/requirements.txt (line 2)) (1.0.0)\r\n",
      "Collecting streamlit==1.22.0 (from -r /kaggle/input/filereq/requirements.txt (line 3))\r\n",
      "  Downloading streamlit-1.22.0-py2.py3-none-any.whl.metadata (7.3 kB)\r\n",
      "Collecting unstructured==0.9.2 (from -r /kaggle/input/filereq/requirements.txt (line 4))\r\n",
      "  Downloading unstructured-0.9.2-py3-none-any.whl.metadata (23 kB)\r\n",
      "Collecting tiktoken==0.4.0 (from -r /kaggle/input/filereq/requirements.txt (line 5))\r\n",
      "  Downloading tiktoken-0.4.0-cp310-cp310-manylinux_2_17_x86_64.manylinux2014_x86_64.whl.metadata (5.2 kB)\r\n",
      "Collecting faiss-cpu==1.7.4 (from -r /kaggle/input/filereq/requirements.txt (line 6))\r\n",
      "  Downloading faiss_cpu-1.7.4-cp310-cp310-manylinux_2_17_x86_64.manylinux2014_x86_64.whl.metadata (1.3 kB)\r\n",
      "Collecting libmagic==1.0 (from -r /kaggle/input/filereq/requirements.txt (line 7))\r\n",
      "  Downloading libmagic-1.0.tar.gz (3.7 kB)\r\n",
      "  Preparing metadata (setup.py) ... \u001b[?25l-\b \bdone\r\n",
      "\u001b[?25hCollecting python-magic==0.4.27 (from -r /kaggle/input/filereq/requirements.txt (line 8))\r\n",
      "  Downloading python_magic-0.4.27-py2.py3-none-any.whl.metadata (5.8 kB)\r\n",
      "\u001b[31mERROR: Ignored the following versions that require a different python version: 0.55.2 Requires-Python <3.5\u001b[0m\u001b[31m\r\n",
      "\u001b[0m\u001b[31mERROR: Could not find a version that satisfies the requirement python-magic-bin==0.4.14 (from versions: none)\u001b[0m\u001b[31m\r\n",
      "\u001b[0m\u001b[31mERROR: No matching distribution found for python-magic-bin==0.4.14\u001b[0m\u001b[31m\r\n",
      "\u001b[0m"
     ]
    }
   ],
   "source": [
    "!pip install -r \"/kaggle/input/filereq/requirements.txt\""
   ]
  },
  {
   "cell_type": "code",
   "execution_count": 3,
   "id": "f4e1db42",
   "metadata": {
    "execution": {
     "iopub.execute_input": "2024-04-30T09:51:02.659014Z",
     "iopub.status.busy": "2024-04-30T09:51:02.658690Z",
     "iopub.status.idle": "2024-04-30T09:53:17.239752Z",
     "shell.execute_reply": "2024-04-30T09:53:17.238744Z"
    },
    "papermill": {
     "duration": 134.58901,
     "end_time": "2024-04-30T09:53:17.242341",
     "exception": false,
     "start_time": "2024-04-30T09:51:02.653331",
     "status": "completed"
    },
    "tags": []
   },
   "outputs": [
    {
     "name": "stdout",
     "output_type": "stream",
     "text": [
      "\u001b[31mERROR: pip's dependency resolver does not currently take into account all the packages that are installed. This behaviour is the source of the following dependency conflicts.\r\n",
      "cudf 23.8.0 requires cubinlinker, which is not installed.\r\n",
      "cudf 23.8.0 requires cupy-cuda11x>=12.0.0, which is not installed.\r\n",
      "cudf 23.8.0 requires ptxcompiler, which is not installed.\r\n",
      "cuml 23.8.0 requires cupy-cuda11x>=12.0.0, which is not installed.\r\n",
      "dask-cudf 23.8.0 requires cupy-cuda11x>=12.0.0, which is not installed.\r\n",
      "keras-cv 0.8.2 requires keras-core, which is not installed.\r\n",
      "keras-nlp 0.9.3 requires keras-core, which is not installed.\r\n",
      "tensorflow-decision-forests 1.8.1 requires wurlitzer, which is not installed.\r\n",
      "apache-beam 2.46.0 requires dill<0.3.2,>=0.3.1.1, but you have dill 0.3.8 which is incompatible.\r\n",
      "apache-beam 2.46.0 requires numpy<1.25.0,>=1.14.3, but you have numpy 1.26.4 which is incompatible.\r\n",
      "apache-beam 2.46.0 requires pyarrow<10.0.0,>=3.0.0, but you have pyarrow 15.0.2 which is incompatible.\r\n",
      "cudf 23.8.0 requires cuda-python<12.0a0,>=11.7.1, but you have cuda-python 12.4.0 which is incompatible.\r\n",
      "cudf 23.8.0 requires pandas<1.6.0dev0,>=1.3, but you have pandas 2.1.4 which is incompatible.\r\n",
      "cudf 23.8.0 requires protobuf<5,>=4.21, but you have protobuf 3.20.3 which is incompatible.\r\n",
      "cudf 23.8.0 requires pyarrow==11.*, but you have pyarrow 15.0.2 which is incompatible.\r\n",
      "cuml 23.8.0 requires dask==2023.7.1, but you have dask 2024.4.1 which is incompatible.\r\n",
      "dask-cuda 23.8.0 requires dask==2023.7.1, but you have dask 2024.4.1 which is incompatible.\r\n",
      "dask-cuda 23.8.0 requires pandas<1.6.0dev0,>=1.3, but you have pandas 2.1.4 which is incompatible.\r\n",
      "dask-cudf 23.8.0 requires dask==2023.7.1, but you have dask 2024.4.1 which is incompatible.\r\n",
      "dask-cudf 23.8.0 requires pandas<1.6.0dev0,>=1.3, but you have pandas 2.1.4 which is incompatible.\r\n",
      "distributed 2023.7.1 requires dask==2023.7.1, but you have dask 2024.4.1 which is incompatible.\r\n",
      "google-cloud-bigquery 2.34.4 requires packaging<22.0dev,>=14.3, but you have packaging 23.2 which is incompatible.\r\n",
      "jupyterlab 4.1.6 requires jupyter-lsp>=2.0.0, but you have jupyter-lsp 1.5.1 which is incompatible.\r\n",
      "jupyterlab-lsp 5.1.0 requires jupyter-lsp>=2.0.0, but you have jupyter-lsp 1.5.1 which is incompatible.\r\n",
      "libpysal 4.9.2 requires shapely>=2.0.1, but you have shapely 1.8.5.post1 which is incompatible.\r\n",
      "momepy 0.7.0 requires shapely>=2, but you have shapely 1.8.5.post1 which is incompatible.\r\n",
      "osmnx 1.9.2 requires shapely>=2.0, but you have shapely 1.8.5.post1 which is incompatible.\r\n",
      "raft-dask 23.8.0 requires dask==2023.7.1, but you have dask 2024.4.1 which is incompatible.\r\n",
      "spopt 0.6.0 requires shapely>=2.0.1, but you have shapely 1.8.5.post1 which is incompatible.\r\n",
      "tensorflow 2.15.0 requires keras<2.16,>=2.15.0, but you have keras 3.2.1 which is incompatible.\r\n",
      "ydata-profiling 4.6.4 requires numpy<1.26,>=1.16.0, but you have numpy 1.26.4 which is incompatible.\u001b[0m\u001b[31m\r\n",
      "\u001b[0mCollecting openai\r\n",
      "  Downloading openai-1.24.0-py3-none-any.whl.metadata (21 kB)\r\n",
      "Requirement already satisfied: langchain in /opt/conda/lib/python3.10/site-packages (0.1.16)\r\n",
      "Collecting langchain-openai\r\n",
      "  Downloading langchain_openai-0.1.4-py3-none-any.whl.metadata (2.5 kB)\r\n",
      "Requirement already satisfied: anyio<5,>=3.5.0 in /opt/conda/lib/python3.10/site-packages (from openai) (4.2.0)\r\n",
      "Requirement already satisfied: distro<2,>=1.7.0 in /opt/conda/lib/python3.10/site-packages (from openai) (1.9.0)\r\n",
      "Requirement already satisfied: httpx<1,>=0.23.0 in /opt/conda/lib/python3.10/site-packages (from openai) (0.27.0)\r\n",
      "Requirement already satisfied: pydantic<3,>=1.9.0 in /opt/conda/lib/python3.10/site-packages (from openai) (2.5.3)\r\n",
      "Requirement already satisfied: sniffio in /opt/conda/lib/python3.10/site-packages (from openai) (1.3.0)\r\n",
      "Requirement already satisfied: tqdm>4 in /opt/conda/lib/python3.10/site-packages (from openai) (4.66.1)\r\n",
      "Requirement already satisfied: typing-extensions<5,>=4.7 in /opt/conda/lib/python3.10/site-packages (from openai) (4.9.0)\r\n",
      "Requirement already satisfied: PyYAML>=5.3 in /opt/conda/lib/python3.10/site-packages (from langchain) (6.0.1)\r\n",
      "Requirement already satisfied: SQLAlchemy<3,>=1.4 in /opt/conda/lib/python3.10/site-packages (from langchain) (2.0.25)\r\n",
      "Requirement already satisfied: aiohttp<4.0.0,>=3.8.3 in /opt/conda/lib/python3.10/site-packages (from langchain) (3.9.1)\r\n",
      "Requirement already satisfied: async-timeout<5.0.0,>=4.0.0 in /opt/conda/lib/python3.10/site-packages (from langchain) (4.0.3)\r\n",
      "Requirement already satisfied: dataclasses-json<0.7,>=0.5.7 in /opt/conda/lib/python3.10/site-packages (from langchain) (0.6.4)\r\n",
      "Requirement already satisfied: jsonpatch<2.0,>=1.33 in /opt/conda/lib/python3.10/site-packages (from langchain) (1.33)\r\n",
      "Requirement already satisfied: langchain-community<0.1,>=0.0.32 in /opt/conda/lib/python3.10/site-packages (from langchain) (0.0.34)\r\n",
      "Requirement already satisfied: langchain-core<0.2.0,>=0.1.42 in /opt/conda/lib/python3.10/site-packages (from langchain) (0.1.46)\r\n",
      "Requirement already satisfied: langchain-text-splitters<0.1,>=0.0.1 in /opt/conda/lib/python3.10/site-packages (from langchain) (0.0.1)\r\n",
      "Requirement already satisfied: langsmith<0.2.0,>=0.1.17 in /opt/conda/lib/python3.10/site-packages (from langchain) (0.1.52)\r\n",
      "Requirement already satisfied: numpy<2,>=1 in /opt/conda/lib/python3.10/site-packages (from langchain) (1.26.4)\r\n",
      "Requirement already satisfied: requests<3,>=2 in /opt/conda/lib/python3.10/site-packages (from langchain) (2.31.0)\r\n",
      "Requirement already satisfied: tenacity<9.0.0,>=8.1.0 in /opt/conda/lib/python3.10/site-packages (from langchain) (8.2.3)\r\n",
      "Requirement already satisfied: tiktoken<1,>=0.5.2 in /opt/conda/lib/python3.10/site-packages (from langchain-openai) (0.6.0)\r\n",
      "Requirement already satisfied: attrs>=17.3.0 in /opt/conda/lib/python3.10/site-packages (from aiohttp<4.0.0,>=3.8.3->langchain) (23.2.0)\r\n",
      "Requirement already satisfied: multidict<7.0,>=4.5 in /opt/conda/lib/python3.10/site-packages (from aiohttp<4.0.0,>=3.8.3->langchain) (6.0.4)\r\n",
      "Requirement already satisfied: yarl<2.0,>=1.0 in /opt/conda/lib/python3.10/site-packages (from aiohttp<4.0.0,>=3.8.3->langchain) (1.9.3)\r\n",
      "Requirement already satisfied: frozenlist>=1.1.1 in /opt/conda/lib/python3.10/site-packages (from aiohttp<4.0.0,>=3.8.3->langchain) (1.4.1)\r\n",
      "Requirement already satisfied: aiosignal>=1.1.2 in /opt/conda/lib/python3.10/site-packages (from aiohttp<4.0.0,>=3.8.3->langchain) (1.3.1)\r\n",
      "Requirement already satisfied: idna>=2.8 in /opt/conda/lib/python3.10/site-packages (from anyio<5,>=3.5.0->openai) (3.6)\r\n",
      "Requirement already satisfied: exceptiongroup>=1.0.2 in /opt/conda/lib/python3.10/site-packages (from anyio<5,>=3.5.0->openai) (1.2.0)\r\n",
      "Requirement already satisfied: marshmallow<4.0.0,>=3.18.0 in /opt/conda/lib/python3.10/site-packages (from dataclasses-json<0.7,>=0.5.7->langchain) (3.21.1)\r\n",
      "Requirement already satisfied: typing-inspect<1,>=0.4.0 in /opt/conda/lib/python3.10/site-packages (from dataclasses-json<0.7,>=0.5.7->langchain) (0.9.0)\r\n",
      "Requirement already satisfied: certifi in /opt/conda/lib/python3.10/site-packages (from httpx<1,>=0.23.0->openai) (2024.2.2)\r\n",
      "Requirement already satisfied: httpcore==1.* in /opt/conda/lib/python3.10/site-packages (from httpx<1,>=0.23.0->openai) (1.0.5)\r\n",
      "Requirement already satisfied: h11<0.15,>=0.13 in /opt/conda/lib/python3.10/site-packages (from httpcore==1.*->httpx<1,>=0.23.0->openai) (0.14.0)\r\n",
      "Requirement already satisfied: jsonpointer>=1.9 in /opt/conda/lib/python3.10/site-packages (from jsonpatch<2.0,>=1.33->langchain) (2.4)\r\n",
      "Requirement already satisfied: packaging<24.0,>=23.2 in /opt/conda/lib/python3.10/site-packages (from langchain-core<0.2.0,>=0.1.42->langchain) (23.2)\r\n",
      "Requirement already satisfied: orjson<4.0.0,>=3.9.14 in /opt/conda/lib/python3.10/site-packages (from langsmith<0.2.0,>=0.1.17->langchain) (3.10.1)\r\n",
      "Requirement already satisfied: annotated-types>=0.4.0 in /opt/conda/lib/python3.10/site-packages (from pydantic<3,>=1.9.0->openai) (0.6.0)\r\n",
      "Requirement already satisfied: pydantic-core==2.14.6 in /opt/conda/lib/python3.10/site-packages (from pydantic<3,>=1.9.0->openai) (2.14.6)\r\n",
      "Requirement already satisfied: charset-normalizer<4,>=2 in /opt/conda/lib/python3.10/site-packages (from requests<3,>=2->langchain) (3.3.2)\r\n",
      "Requirement already satisfied: urllib3<3,>=1.21.1 in /opt/conda/lib/python3.10/site-packages (from requests<3,>=2->langchain) (1.26.18)\r\n",
      "Requirement already satisfied: greenlet!=0.4.17 in /opt/conda/lib/python3.10/site-packages (from SQLAlchemy<3,>=1.4->langchain) (3.0.3)\r\n",
      "Requirement already satisfied: regex>=2022.1.18 in /opt/conda/lib/python3.10/site-packages (from tiktoken<1,>=0.5.2->langchain-openai) (2023.12.25)\r\n",
      "Requirement already satisfied: mypy-extensions>=0.3.0 in /opt/conda/lib/python3.10/site-packages (from typing-inspect<1,>=0.4.0->dataclasses-json<0.7,>=0.5.7->langchain) (1.0.0)\r\n",
      "Downloading openai-1.24.0-py3-none-any.whl (312 kB)\r\n",
      "\u001b[2K   \u001b[90m━━━━━━━━━━━━━━━━━━━━━━━━━━━━━━━━━━━━━━━━\u001b[0m \u001b[32m312.3/312.3 kB\u001b[0m \u001b[31m2.7 MB/s\u001b[0m eta \u001b[36m0:00:00\u001b[0m\r\n",
      "\u001b[?25hDownloading langchain_openai-0.1.4-py3-none-any.whl (33 kB)\r\n",
      "Installing collected packages: openai, langchain-openai\r\n",
      "Successfully installed langchain-openai-0.1.4 openai-1.24.0\r\n"
     ]
    }
   ],
   "source": [
    "! pip install -qq -U sentence_transformers==2.2.2 langchain tiktoken pypdf faiss-gpu InstructorEmbedding transformers accelerate bitsandbytes streamlit==1.22.0\n",
    "!pip install openai langchain langchain-openai"
   ]
  },
  {
   "cell_type": "code",
   "execution_count": 4,
   "id": "a065d393",
   "metadata": {
    "execution": {
     "iopub.execute_input": "2024-04-30T09:53:17.255562Z",
     "iopub.status.busy": "2024-04-30T09:53:17.255252Z",
     "iopub.status.idle": "2024-04-30T09:53:43.996799Z",
     "shell.execute_reply": "2024-04-30T09:53:43.995849Z"
    },
    "papermill": {
     "duration": 26.750758,
     "end_time": "2024-04-30T09:53:43.999185",
     "exception": false,
     "start_time": "2024-04-30T09:53:17.248427",
     "status": "completed"
    },
    "tags": []
   },
   "outputs": [
    {
     "name": "stdout",
     "output_type": "stream",
     "text": [
      "Collecting unstructured==0.5.6\r\n",
      "  Downloading unstructured-0.5.6.tar.gz (1.3 MB)\r\n",
      "\u001b[2K     \u001b[90m━━━━━━━━━━━━━━━━━━━━━━━━━━━━━━━━━━━━━━━━\u001b[0m \u001b[32m1.3/1.3 MB\u001b[0m \u001b[31m6.5 MB/s\u001b[0m eta \u001b[36m0:00:00\u001b[0m\r\n",
      "\u001b[?25h  Preparing metadata (setup.py) ... \u001b[?25l-\b \bdone\r\n",
      "\u001b[?25hCollecting argilla (from unstructured==0.5.6)\r\n",
      "  Downloading argilla-1.27.0-py3-none-any.whl.metadata (17 kB)\r\n",
      "Requirement already satisfied: lxml in /opt/conda/lib/python3.10/site-packages (from unstructured==0.5.6) (5.2.1)\r\n",
      "Requirement already satisfied: nltk in /opt/conda/lib/python3.10/site-packages (from unstructured==0.5.6) (3.2.4)\r\n",
      "Requirement already satisfied: openpyxl in /opt/conda/lib/python3.10/site-packages (from unstructured==0.5.6) (3.1.2)\r\n",
      "Requirement already satisfied: pandas in /opt/conda/lib/python3.10/site-packages (from unstructured==0.5.6) (2.1.4)\r\n",
      "Requirement already satisfied: pillow in /opt/conda/lib/python3.10/site-packages (from unstructured==0.5.6) (9.5.0)\r\n",
      "Collecting pypandoc (from unstructured==0.5.6)\r\n",
      "  Downloading pypandoc-1.13-py3-none-any.whl.metadata (16 kB)\r\n",
      "Collecting python-docx (from unstructured==0.5.6)\r\n",
      "  Downloading python_docx-1.1.1-py3-none-any.whl.metadata (2.0 kB)\r\n",
      "Collecting python-pptx (from unstructured==0.5.6)\r\n",
      "  Downloading python_pptx-0.6.23-py3-none-any.whl.metadata (18 kB)\r\n",
      "Collecting python-magic (from unstructured==0.5.6)\r\n",
      "  Using cached python_magic-0.4.27-py2.py3-none-any.whl.metadata (5.8 kB)\r\n",
      "Requirement already satisfied: markdown in /opt/conda/lib/python3.10/site-packages (from unstructured==0.5.6) (3.5.2)\r\n",
      "Requirement already satisfied: requests in /opt/conda/lib/python3.10/site-packages (from unstructured==0.5.6) (2.31.0)\r\n",
      "Requirement already satisfied: certifi>=2022.12.07 in /opt/conda/lib/python3.10/site-packages (from unstructured==0.5.6) (2024.2.2)\r\n",
      "Collecting httpx<=0.26,>=0.15 (from argilla->unstructured==0.5.6)\r\n",
      "  Downloading httpx-0.26.0-py3-none-any.whl.metadata (7.6 kB)\r\n",
      "Requirement already satisfied: deprecated~=1.2.0 in /opt/conda/lib/python3.10/site-packages (from argilla->unstructured==0.5.6) (1.2.14)\r\n",
      "Requirement already satisfied: packaging>=20.0 in /opt/conda/lib/python3.10/site-packages (from argilla->unstructured==0.5.6) (23.2)\r\n",
      "Requirement already satisfied: pydantic>=1.10.7 in /opt/conda/lib/python3.10/site-packages (from argilla->unstructured==0.5.6) (2.5.3)\r\n",
      "Requirement already satisfied: wrapt<1.15,>=1.13 in /opt/conda/lib/python3.10/site-packages (from argilla->unstructured==0.5.6) (1.14.1)\r\n",
      "Collecting numpy<1.24.0 (from argilla->unstructured==0.5.6)\r\n",
      "  Downloading numpy-1.23.5-cp310-cp310-manylinux_2_17_x86_64.manylinux2014_x86_64.whl.metadata (2.3 kB)\r\n",
      "Requirement already satisfied: tqdm>=4.27.0 in /opt/conda/lib/python3.10/site-packages (from argilla->unstructured==0.5.6) (4.66.1)\r\n",
      "Requirement already satisfied: backoff in /opt/conda/lib/python3.10/site-packages (from argilla->unstructured==0.5.6) (2.2.1)\r\n",
      "Collecting monotonic (from argilla->unstructured==0.5.6)\r\n",
      "  Downloading monotonic-1.6-py2.py3-none-any.whl.metadata (1.5 kB)\r\n",
      "Requirement already satisfied: rich!=13.1.0 in /opt/conda/lib/python3.10/site-packages (from argilla->unstructured==0.5.6) (13.7.0)\r\n",
      "Requirement already satisfied: typer<0.10.0,>=0.6.0 in /opt/conda/lib/python3.10/site-packages (from argilla->unstructured==0.5.6) (0.9.0)\r\n",
      "Requirement already satisfied: python-dateutil>=2.8.2 in /opt/conda/lib/python3.10/site-packages (from pandas->unstructured==0.5.6) (2.9.0.post0)\r\n",
      "Requirement already satisfied: pytz>=2020.1 in /opt/conda/lib/python3.10/site-packages (from pandas->unstructured==0.5.6) (2023.3.post1)\r\n",
      "Requirement already satisfied: tzdata>=2022.1 in /opt/conda/lib/python3.10/site-packages (from pandas->unstructured==0.5.6) (2023.4)\r\n",
      "Requirement already satisfied: six in /opt/conda/lib/python3.10/site-packages (from nltk->unstructured==0.5.6) (1.16.0)\r\n",
      "Requirement already satisfied: et-xmlfile in /opt/conda/lib/python3.10/site-packages (from openpyxl->unstructured==0.5.6) (1.1.0)\r\n",
      "Collecting lxml (from unstructured==0.5.6)\r\n",
      "  Downloading lxml-4.9.2-cp310-cp310-manylinux_2_17_x86_64.manylinux2014_x86_64.manylinux_2_24_x86_64.whl.metadata (3.6 kB)\r\n",
      "Requirement already satisfied: typing-extensions>=4.9.0 in /opt/conda/lib/python3.10/site-packages (from python-docx->unstructured==0.5.6) (4.9.0)\r\n",
      "Collecting XlsxWriter>=0.5.7 (from python-pptx->unstructured==0.5.6)\r\n",
      "  Downloading XlsxWriter-3.2.0-py3-none-any.whl.metadata (2.6 kB)\r\n",
      "Requirement already satisfied: charset-normalizer<4,>=2 in /opt/conda/lib/python3.10/site-packages (from requests->unstructured==0.5.6) (3.3.2)\r\n",
      "Requirement already satisfied: idna<4,>=2.5 in /opt/conda/lib/python3.10/site-packages (from requests->unstructured==0.5.6) (3.6)\r\n",
      "Requirement already satisfied: urllib3<3,>=1.21.1 in /opt/conda/lib/python3.10/site-packages (from requests->unstructured==0.5.6) (1.26.18)\r\n",
      "Requirement already satisfied: anyio in /opt/conda/lib/python3.10/site-packages (from httpx<=0.26,>=0.15->argilla->unstructured==0.5.6) (4.2.0)\r\n",
      "Requirement already satisfied: httpcore==1.* in /opt/conda/lib/python3.10/site-packages (from httpx<=0.26,>=0.15->argilla->unstructured==0.5.6) (1.0.5)\r\n",
      "Requirement already satisfied: sniffio in /opt/conda/lib/python3.10/site-packages (from httpx<=0.26,>=0.15->argilla->unstructured==0.5.6) (1.3.0)\r\n",
      "Requirement already satisfied: h11<0.15,>=0.13 in /opt/conda/lib/python3.10/site-packages (from httpcore==1.*->httpx<=0.26,>=0.15->argilla->unstructured==0.5.6) (0.14.0)\r\n",
      "Requirement already satisfied: annotated-types>=0.4.0 in /opt/conda/lib/python3.10/site-packages (from pydantic>=1.10.7->argilla->unstructured==0.5.6) (0.6.0)\r\n",
      "Requirement already satisfied: pydantic-core==2.14.6 in /opt/conda/lib/python3.10/site-packages (from pydantic>=1.10.7->argilla->unstructured==0.5.6) (2.14.6)\r\n",
      "Requirement already satisfied: markdown-it-py>=2.2.0 in /opt/conda/lib/python3.10/site-packages (from rich!=13.1.0->argilla->unstructured==0.5.6) (3.0.0)\r\n",
      "Requirement already satisfied: pygments<3.0.0,>=2.13.0 in /opt/conda/lib/python3.10/site-packages (from rich!=13.1.0->argilla->unstructured==0.5.6) (2.17.2)\r\n",
      "Requirement already satisfied: click<9.0.0,>=7.1.1 in /opt/conda/lib/python3.10/site-packages (from typer<0.10.0,>=0.6.0->argilla->unstructured==0.5.6) (8.1.7)\r\n",
      "Requirement already satisfied: mdurl~=0.1 in /opt/conda/lib/python3.10/site-packages (from markdown-it-py>=2.2.0->rich!=13.1.0->argilla->unstructured==0.5.6) (0.1.2)\r\n",
      "Requirement already satisfied: exceptiongroup>=1.0.2 in /opt/conda/lib/python3.10/site-packages (from anyio->httpx<=0.26,>=0.15->argilla->unstructured==0.5.6) (1.2.0)\r\n",
      "Downloading argilla-1.27.0-py3-none-any.whl (420 kB)\r\n",
      "\u001b[2K   \u001b[90m━━━━━━━━━━━━━━━━━━━━━━━━━━━━━━━━━━━━━━━━\u001b[0m \u001b[32m420.8/420.8 kB\u001b[0m \u001b[31m13.1 MB/s\u001b[0m eta \u001b[36m0:00:00\u001b[0m\r\n",
      "\u001b[?25hDownloading pypandoc-1.13-py3-none-any.whl (21 kB)\r\n",
      "Downloading python_docx-1.1.1-py3-none-any.whl (242 kB)\r\n",
      "\u001b[2K   \u001b[90m━━━━━━━━━━━━━━━━━━━━━━━━━━━━━━━━━━━━━━━━\u001b[0m \u001b[32m242.8/242.8 kB\u001b[0m \u001b[31m13.8 MB/s\u001b[0m eta \u001b[36m0:00:00\u001b[0m\r\n",
      "\u001b[?25hDownloading lxml-4.9.2-cp310-cp310-manylinux_2_17_x86_64.manylinux2014_x86_64.manylinux_2_24_x86_64.whl (7.1 MB)\r\n",
      "\u001b[2K   \u001b[90m━━━━━━━━━━━━━━━━━━━━━━━━━━━━━━━━━━━━━━━━\u001b[0m \u001b[32m7.1/7.1 MB\u001b[0m \u001b[31m40.2 MB/s\u001b[0m eta \u001b[36m0:00:00\u001b[0m\r\n",
      "\u001b[?25hDownloading python_magic-0.4.27-py2.py3-none-any.whl (13 kB)\r\n",
      "Downloading python_pptx-0.6.23-py3-none-any.whl (471 kB)\r\n",
      "\u001b[2K   \u001b[90m━━━━━━━━━━━━━━━━━━━━━━━━━━━━━━━━━━━━━━━━\u001b[0m \u001b[32m471.6/471.6 kB\u001b[0m \u001b[31m10.5 MB/s\u001b[0m eta \u001b[36m0:00:00\u001b[0m\r\n",
      "\u001b[?25hDownloading httpx-0.26.0-py3-none-any.whl (75 kB)\r\n",
      "\u001b[2K   \u001b[90m━━━━━━━━━━━━━━━━━━━━━━━━━━━━━━━━━━━━━━━━\u001b[0m \u001b[32m75.9/75.9 kB\u001b[0m \u001b[31m772.5 kB/s\u001b[0m eta \u001b[36m0:00:00\u001b[0m\r\n",
      "\u001b[?25hDownloading numpy-1.23.5-cp310-cp310-manylinux_2_17_x86_64.manylinux2014_x86_64.whl (17.1 MB)\r\n",
      "\u001b[2K   \u001b[90m━━━━━━━━━━━━━━━━━━━━━━━━━━━━━━━━━━━━━━━━\u001b[0m \u001b[32m17.1/17.1 MB\u001b[0m \u001b[31m41.5 MB/s\u001b[0m eta \u001b[36m0:00:00\u001b[0m\r\n",
      "\u001b[?25hDownloading XlsxWriter-3.2.0-py3-none-any.whl (159 kB)\r\n",
      "\u001b[2K   \u001b[90m━━━━━━━━━━━━━━━━━━━━━━━━━━━━━━━━━━━━━━━━\u001b[0m \u001b[32m159.9/159.9 kB\u001b[0m \u001b[31m9.4 MB/s\u001b[0m eta \u001b[36m0:00:00\u001b[0m\r\n",
      "\u001b[?25hDownloading monotonic-1.6-py2.py3-none-any.whl (8.2 kB)\r\n",
      "Building wheels for collected packages: unstructured\r\n",
      "  Building wheel for unstructured (setup.py) ... \u001b[?25l-\b \b\\\b \bdone\r\n",
      "\u001b[?25h  Created wheel for unstructured: filename=unstructured-0.5.6-py3-none-any.whl size=1315700 sha256=3c0a2eac585b3245bdc9dd17f0213454061b2df3ce477cdb5dadcf066bdb88e9\r\n",
      "  Stored in directory: /root/.cache/pip/wheels/8d/ba/38/39adebfeae4a6d48b6851964610929b716c66c861f7f6404f4\r\n",
      "Successfully built unstructured\r\n",
      "Installing collected packages: monotonic, XlsxWriter, python-magic, pypandoc, numpy, lxml, python-pptx, python-docx, httpx, argilla, unstructured\r\n",
      "  Attempting uninstall: numpy\r\n",
      "    Found existing installation: numpy 1.26.4\r\n",
      "    Uninstalling numpy-1.26.4:\r\n",
      "      Successfully uninstalled numpy-1.26.4\r\n",
      "  Attempting uninstall: lxml\r\n",
      "    Found existing installation: lxml 5.2.1\r\n",
      "    Uninstalling lxml-5.2.1:\r\n",
      "      Successfully uninstalled lxml-5.2.1\r\n",
      "  Attempting uninstall: httpx\r\n",
      "    Found existing installation: httpx 0.27.0\r\n",
      "    Uninstalling httpx-0.27.0:\r\n",
      "      Successfully uninstalled httpx-0.27.0\r\n",
      "\u001b[31mERROR: pip's dependency resolver does not currently take into account all the packages that are installed. This behaviour is the source of the following dependency conflicts.\r\n",
      "cudf 23.8.0 requires cubinlinker, which is not installed.\r\n",
      "cudf 23.8.0 requires cupy-cuda11x>=12.0.0, which is not installed.\r\n",
      "cudf 23.8.0 requires ptxcompiler, which is not installed.\r\n",
      "cuml 23.8.0 requires cupy-cuda11x>=12.0.0, which is not installed.\r\n",
      "dask-cudf 23.8.0 requires cupy-cuda11x>=12.0.0, which is not installed.\r\n",
      "keras-nlp 0.9.3 requires keras-core, which is not installed.\r\n",
      "tensorflow-decision-forests 1.8.1 requires wurlitzer, which is not installed.\r\n",
      "albumentations 1.4.0 requires numpy>=1.24.4, but you have numpy 1.23.5 which is incompatible.\r\n",
      "apache-beam 2.46.0 requires dill<0.3.2,>=0.3.1.1, but you have dill 0.3.8 which is incompatible.\r\n",
      "apache-beam 2.46.0 requires pyarrow<10.0.0,>=3.0.0, but you have pyarrow 15.0.2 which is incompatible.\r\n",
      "chex 0.1.86 requires numpy>=1.24.1, but you have numpy 1.23.5 which is incompatible.\r\n",
      "cudf 23.8.0 requires cuda-python<12.0a0,>=11.7.1, but you have cuda-python 12.4.0 which is incompatible.\r\n",
      "cudf 23.8.0 requires pandas<1.6.0dev0,>=1.3, but you have pandas 2.1.4 which is incompatible.\r\n",
      "cudf 23.8.0 requires protobuf<5,>=4.21, but you have protobuf 3.20.3 which is incompatible.\r\n",
      "cudf 23.8.0 requires pyarrow==11.*, but you have pyarrow 15.0.2 which is incompatible.\r\n",
      "cuml 23.8.0 requires dask==2023.7.1, but you have dask 2024.4.1 which is incompatible.\r\n",
      "dask-cuda 23.8.0 requires dask==2023.7.1, but you have dask 2024.4.1 which is incompatible.\r\n",
      "dask-cuda 23.8.0 requires pandas<1.6.0dev0,>=1.3, but you have pandas 2.1.4 which is incompatible.\r\n",
      "dask-cudf 23.8.0 requires dask==2023.7.1, but you have dask 2024.4.1 which is incompatible.\r\n",
      "dask-cudf 23.8.0 requires pandas<1.6.0dev0,>=1.3, but you have pandas 2.1.4 which is incompatible.\r\n",
      "featuretools 1.30.0 requires numpy>=1.25.0, but you have numpy 1.23.5 which is incompatible.\r\n",
      "jupyterlab 4.1.6 requires jupyter-lsp>=2.0.0, but you have jupyter-lsp 1.5.1 which is incompatible.\r\n",
      "jupyterlab-lsp 5.1.0 requires jupyter-lsp>=2.0.0, but you have jupyter-lsp 1.5.1 which is incompatible.\r\n",
      "libpysal 4.9.2 requires shapely>=2.0.1, but you have shapely 1.8.5.post1 which is incompatible.\r\n",
      "momepy 0.7.0 requires shapely>=2, but you have shapely 1.8.5.post1 which is incompatible.\r\n",
      "osmnx 1.9.2 requires shapely>=2.0, but you have shapely 1.8.5.post1 which is incompatible.\r\n",
      "pyldavis 3.4.1 requires numpy>=1.24.2, but you have numpy 1.23.5 which is incompatible.\r\n",
      "pylibraft 23.8.0 requires cuda-python<12.0a0,>=11.7.1, but you have cuda-python 12.4.0 which is incompatible.\r\n",
      "raft-dask 23.8.0 requires dask==2023.7.1, but you have dask 2024.4.1 which is incompatible.\r\n",
      "rmm 23.8.0 requires cuda-python<12.0a0,>=11.7.1, but you have cuda-python 12.4.0 which is incompatible.\r\n",
      "spopt 0.6.0 requires shapely>=2.0.1, but you have shapely 1.8.5.post1 which is incompatible.\r\n",
      "tensorflow 2.15.0 requires keras<2.16,>=2.15.0, but you have keras 3.2.1 which is incompatible.\r\n",
      "tensorstore 0.1.56 requires ml-dtypes>=0.3.1, but you have ml-dtypes 0.2.0 which is incompatible.\r\n",
      "woodwork 0.30.0 requires numpy>=1.25.0, but you have numpy 1.23.5 which is incompatible.\u001b[0m\u001b[31m\r\n",
      "\u001b[0mSuccessfully installed XlsxWriter-3.2.0 argilla-1.27.0 httpx-0.26.0 lxml-4.9.2 monotonic-1.6 numpy-1.23.5 pypandoc-1.13 python-docx-1.1.1 python-magic-0.4.27 python-pptx-0.6.23 unstructured-0.5.6\r\n"
     ]
    }
   ],
   "source": [
    "!pip install unstructured==0.5.6"
   ]
  },
  {
   "cell_type": "code",
   "execution_count": 5,
   "id": "443492a2",
   "metadata": {
    "execution": {
     "iopub.execute_input": "2024-04-30T09:53:44.023910Z",
     "iopub.status.busy": "2024-04-30T09:53:44.023595Z",
     "iopub.status.idle": "2024-04-30T09:53:45.065655Z",
     "shell.execute_reply": "2024-04-30T09:53:45.064203Z"
    },
    "papermill": {
     "duration": 1.057065,
     "end_time": "2024-04-30T09:53:45.068352",
     "exception": false,
     "start_time": "2024-04-30T09:53:44.011287",
     "status": "completed"
    },
    "tags": []
   },
   "outputs": [
    {
     "name": "stdout",
     "output_type": "stream",
     "text": [
      "104.198.22.73\r\n"
     ]
    }
   ],
   "source": [
    "!wget -q -O - icanhazip.com"
   ]
  },
  {
   "cell_type": "code",
   "execution_count": 6,
   "id": "b0d68ded",
   "metadata": {
    "execution": {
     "iopub.execute_input": "2024-04-30T09:53:45.100764Z",
     "iopub.status.busy": "2024-04-30T09:53:45.100417Z",
     "iopub.status.idle": "2024-04-30T10:06:29.974945Z",
     "shell.execute_reply": "2024-04-30T10:06:29.974008Z"
    },
    "papermill": {
     "duration": 764.890976,
     "end_time": "2024-04-30T10:06:29.976883",
     "exception": false,
     "start_time": "2024-04-30T09:53:45.085907",
     "status": "completed"
    },
    "tags": []
   },
   "outputs": [
    {
     "name": "stdout",
     "output_type": "stream",
     "text": [
      "\u001b[37;40mnpm\u001b[0m \u001b[0m\u001b[30;43mWARN\u001b[0m \u001b[0m\u001b[35mexec\u001b[0m The following package was not found and will be installed: localtunnel@2.0.2\r\n",
      "\r\n",
      "Collecting usage statistics. To deactivate, set browser.gatherUsageStats to False.\r\n",
      "\u001b[0m\r\n",
      "\u001b[0m\r\n",
      "\u001b[34m\u001b[1m  You can now view your Streamlit app in your browser.\u001b[0m\r\n",
      "\u001b[0m\r\n",
      "\u001b[34m  Network URL: \u001b[0m\u001b[1mhttp://172.19.2.2:8501\u001b[0m\r\n",
      "\u001b[34m  External URL: \u001b[0m\u001b[1mhttp://104.198.22.73:8501\u001b[0m\r\n",
      "\u001b[0m\r\n",
      "\u001b[K\u001b[?25hyour url is: https://six-radios-return.loca.lt\r\n",
      "/root/.npm/_npx/75ac80b86e83d4a2/node_modules/localtunnel/bin/lt.js:81\r\n",
      "    throw err;\r\n",
      "    ^\r\n",
      "\r\n",
      "Error: connection refused: localtunnel.me:44249 (check your firewall settings)\r\n",
      "    at Socket.<anonymous> (/root/.npm/_npx/75ac80b86e83d4a2/node_modules/\u001b[4mlocaltunnel\u001b[24m/lib/TunnelCluster.js:52:11)\r\n",
      "\u001b[90m    at Socket.emit (node:events:514:28)\u001b[39m\r\n",
      "\u001b[90m    at emitErrorNT (node:internal/streams/destroy:151:8)\u001b[39m\r\n",
      "\u001b[90m    at emitErrorCloseNT (node:internal/streams/destroy:116:3)\u001b[39m\r\n",
      "\u001b[90m    at process.processTicksAndRejections (node:internal/process/task_queues:82:21)\u001b[39m\r\n",
      "\r\n",
      "Node.js v20.9.0\r\n",
      "\u001b[37;40mnpm\u001b[0m \u001b[0m\u001b[36;40mnotice\u001b[0m\u001b[35m\u001b[0m \r\n",
      "\u001b[0m\u001b[37;40mnpm\u001b[0m \u001b[0m\u001b[36;40mnotice\u001b[0m\u001b[35m\u001b[0m New \u001b[33mminor\u001b[39m version of npm available! \u001b[31m10.1.0\u001b[39m -> \u001b[32m10.6.0\u001b[39m\r\n",
      "\u001b[0m\u001b[37;40mnpm\u001b[0m \u001b[0m\u001b[36;40mnotice\u001b[0m\u001b[35m\u001b[0m Changelog: \u001b[36mhttps://github.com/npm/cli/releases/tag/v10.6.0\u001b[39m\r\n",
      "\u001b[0m\u001b[37;40mnpm\u001b[0m \u001b[0m\u001b[36;40mnotice\u001b[0m\u001b[35m\u001b[0m Run \u001b[32mnpm install -g npm@10.6.0\u001b[39m to update!\r\n",
      "\u001b[0m\u001b[37;40mnpm\u001b[0m \u001b[0m\u001b[36;40mnotice\u001b[0m\u001b[35m\u001b[0m \r\n",
      "\u001b[0myes: standard output: Broken pipe\r\n"
     ]
    }
   ],
   "source": [
    "!yes | streamlit run \"/kaggle/input/mainfolder/readsmartbot.py\" & yes | npx localtunnel --port 8501"
   ]
  }
 ],
 "metadata": {
  "kaggle": {
   "accelerator": "nvidiaTeslaT4",
   "dataSources": [
    {
     "datasetId": 4898085,
     "sourceId": 8254114,
     "sourceType": "datasetVersion"
    },
    {
     "datasetId": 4903937,
     "sourceId": 8261995,
     "sourceType": "datasetVersion"
    }
   ],
   "dockerImageVersionId": 30699,
   "isGpuEnabled": true,
   "isInternetEnabled": true,
   "language": "python",
   "sourceType": "notebook"
  },
  "kernelspec": {
   "display_name": "Python 3",
   "language": "python",
   "name": "python3"
  },
  "language_info": {
   "codemirror_mode": {
    "name": "ipython",
    "version": 3
   },
   "file_extension": ".py",
   "mimetype": "text/x-python",
   "name": "python",
   "nbconvert_exporter": "python",
   "pygments_lexer": "ipython3",
   "version": "3.10.13"
  },
  "papermill": {
   "default_parameters": {},
   "duration": 936.288754,
   "end_time": "2024-04-30T10:06:30.309127",
   "environment_variables": {},
   "exception": null,
   "input_path": "__notebook__.ipynb",
   "output_path": "__notebook__.ipynb",
   "parameters": {},
   "start_time": "2024-04-30T09:50:54.020373",
   "version": "2.5.0"
  }
 },
 "nbformat": 4,
 "nbformat_minor": 5
}
